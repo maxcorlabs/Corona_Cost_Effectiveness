{
 "cells": [
  {
   "cell_type": "markdown",
   "id": "b9e2ca6b",
   "metadata": {},
   "source": [
    "# Getting an Oxford Stringency Index up to date for a country, live"
   ]
  },
  {
   "cell_type": "code",
   "execution_count": 1,
   "id": "0626ec31",
   "metadata": {},
   "outputs": [],
   "source": [
    "# import libraries\n",
    "import os\n",
    "import pandas as pd\n",
    "import numpy as np\n",
    "import matplotlib \n",
    "from datetime import datetime\n",
    "from datetime import date\n",
    "from pandas.tseries.offsets import DateOffset\n",
    "import datetime as dt"
   ]
  },
  {
   "cell_type": "code",
   "execution_count": 2,
   "id": "0af6ae35",
   "metadata": {},
   "outputs": [
    {
     "name": "stderr",
     "output_type": "stream",
     "text": [
      "D:\\bin\\anaconda3\\envs\\cleanx\\lib\\site-packages\\IPython\\core\\interactiveshell.py:3170: DtypeWarning: Columns (2,3) have mixed types.Specify dtype option on import or set low_memory=False.\n",
      "  interactivity=interactivity, compiler=compiler, result=result)\n"
     ]
    }
   ],
   "source": [
    "import_ox = pd.read_csv('https://raw.githubusercontent.com/OxCGRT/covid-policy-tracker/master/data/OxCGRT_latest.csv')"
   ]
  },
  {
   "cell_type": "code",
   "execution_count": 6,
   "id": "e99eeecf",
   "metadata": {},
   "outputs": [],
   "source": [
    "## eventually Oxford may take this site down, so periodically update the big dataset by altering the code below\n",
    "## uncomment and run with new name ;)\n",
    "#import_ox.to_csv('biggest_ox_28_08_2021.csv') "
   ]
  },
  {
   "cell_type": "code",
   "execution_count": 3,
   "id": "3def90f9",
   "metadata": {},
   "outputs": [
    {
     "name": "stdout",
     "output_type": "stream",
     "text": [
      "Possible countries to choose:\n",
      " ['Aruba' 'Afghanistan' 'Angola' 'Albania' 'Andorra' 'United Arab Emirates'\n",
      " 'Argentina' 'Australia' 'Austria' 'Azerbaijan' 'Burundi' 'Belgium'\n",
      " 'Benin' 'Burkina Faso' 'Bangladesh' 'Bulgaria' 'Bahrain' 'Bahamas'\n",
      " 'Bosnia and Herzegovina' 'Belarus' 'Belize' 'Bermuda' 'Bolivia' 'Brazil'\n",
      " 'Barbados' 'Brunei' 'Bhutan' 'Botswana' 'Central African Republic'\n",
      " 'Canada' 'Switzerland' 'Chile' 'China' \"Cote d'Ivoire\" 'Cameroon'\n",
      " 'Democratic Republic of Congo' 'Congo' 'Colombia' 'Comoros' 'Cape Verde'\n",
      " 'Costa Rica' 'Cuba' 'Cyprus' 'Czech Republic' 'Germany' 'Djibouti'\n",
      " 'Dominica' 'Denmark' 'Dominican Republic' 'Algeria' 'Ecuador' 'Egypt'\n",
      " 'Eritrea' 'Spain' 'Estonia' 'Ethiopia' 'Finland' 'Fiji' 'France'\n",
      " 'Faeroe Islands' 'Gabon' 'United Kingdom' 'Georgia' 'Ghana' 'Guinea'\n",
      " 'Gambia' 'Greece' 'Greenland' 'Guatemala' 'Guam' 'Guyana' 'Hong Kong'\n",
      " 'Honduras' 'Croatia' 'Haiti' 'Hungary' 'Indonesia' 'India' 'Ireland'\n",
      " 'Iran' 'Iraq' 'Iceland' 'Israel' 'Italy' 'Jamaica' 'Jordan' 'Japan'\n",
      " 'Kazakhstan' 'Kenya' 'Kyrgyz Republic' 'Cambodia' 'Kiribati'\n",
      " 'South Korea' 'Kuwait' 'Laos' 'Lebanon' 'Liberia' 'Libya' 'Liechtenstein'\n",
      " 'Sri Lanka' 'Lesotho' 'Lithuania' 'Luxembourg' 'Latvia' 'Macao' 'Morocco'\n",
      " 'Monaco' 'Moldova' 'Madagascar' 'Mexico' 'Mali' 'Malta' 'Myanmar'\n",
      " 'Mongolia' 'Mozambique' 'Mauritania' 'Mauritius' 'Malawi' 'Malaysia'\n",
      " 'Namibia' 'Niger' 'Nigeria' 'Nicaragua' 'Netherlands' 'Norway' 'Nepal'\n",
      " 'New Zealand' 'Oman' 'Pakistan' 'Panama' 'Peru' 'Philippines'\n",
      " 'Papua New Guinea' 'Poland' 'Puerto Rico' 'Portugal' 'Paraguay'\n",
      " 'Palestine' 'Qatar' 'Kosovo' 'Romania' 'Russia' 'Rwanda' 'Saudi Arabia'\n",
      " 'Sudan' 'Senegal' 'Singapore' 'Solomon Islands' 'Sierra Leone'\n",
      " 'El Salvador' 'San Marino' 'Somalia' 'Serbia' 'South Sudan' 'Suriname'\n",
      " 'Slovak Republic' 'Slovenia' 'Sweden' 'Eswatini' 'Seychelles' 'Syria'\n",
      " 'Chad' 'Togo' 'Thailand' 'Tajikistan' 'Turkmenistan' 'Timor-Leste'\n",
      " 'Tonga' 'Trinidad and Tobago' 'Tunisia' 'Turkey' 'Taiwan' 'Tanzania'\n",
      " 'Uganda' 'Ukraine' 'Uruguay' 'United States' 'Uzbekistan' 'Venezuela'\n",
      " 'United States Virgin Islands' 'Vietnam' 'Vanuatu' 'Yemen' 'South Africa'\n",
      " 'Zambia' 'Zimbabwe']\n"
     ]
    }
   ],
   "source": [
    "print(\"Possible countries to choose:\\n\", import_ox.CountryName.unique())"
   ]
  },
  {
   "cell_type": "code",
   "execution_count": 4,
   "id": "bb0c38a2",
   "metadata": {},
   "outputs": [
    {
     "name": "stdout",
     "output_type": "stream",
     "text": [
      "Enter your chosen country from the list called +Possible countries to choose+ above:Israel\n"
     ]
    }
   ],
   "source": [
    "input1 = input('Enter your chosen country from the list called +Possible countries to choose+ above:')"
   ]
  },
  {
   "cell_type": "code",
   "execution_count": 7,
   "id": "fea22495",
   "metadata": {},
   "outputs": [
    {
     "name": "stderr",
     "output_type": "stream",
     "text": [
      "D:\\bin\\anaconda3\\envs\\cleanx\\lib\\site-packages\\ipykernel_launcher.py:2: SettingWithCopyWarning: \n",
      "A value is trying to be set on a copy of a slice from a DataFrame.\n",
      "Try using .loc[row_indexer,col_indexer] = value instead\n",
      "\n",
      "See the caveats in the documentation: https://pandas.pydata.org/pandas-docs/stable/user_guide/indexing.html#returning-a-view-versus-a-copy\n",
      "  \n"
     ]
    }
   ],
   "source": [
    "chosen_ox = import_ox[import_ox.CountryName == input1]\n",
    "chosen_ox['date_as_date']=pd.to_datetime(chosen_ox['Date'], format ='%Y%m%d')\n",
    "chosen_ox= chosen_ox[['date_as_date', 'StringencyIndex']]"
   ]
  },
  {
   "cell_type": "code",
   "execution_count": 8,
   "id": "d0478f9b",
   "metadata": {},
   "outputs": [],
   "source": [
    "nameit = ['Stringency_index_in_'+input1]\n",
    "chosen_ox[nameit] =chosen_ox['StringencyIndex']"
   ]
  },
  {
   "cell_type": "code",
   "execution_count": 9,
   "id": "ac4295c4",
   "metadata": {},
   "outputs": [],
   "source": [
    "chosen_ox = chosen_ox.drop('StringencyIndex', axis =1)"
   ]
  },
  {
   "cell_type": "code",
   "execution_count": 10,
   "id": "f500d36d",
   "metadata": {},
   "outputs": [
    {
     "data": {
      "text/html": [
       "<div>\n",
       "<style scoped>\n",
       "    .dataframe tbody tr th:only-of-type {\n",
       "        vertical-align: middle;\n",
       "    }\n",
       "\n",
       "    .dataframe tbody tr th {\n",
       "        vertical-align: top;\n",
       "    }\n",
       "\n",
       "    .dataframe thead th {\n",
       "        text-align: right;\n",
       "    }\n",
       "</style>\n",
       "<table border=\"1\" class=\"dataframe\">\n",
       "  <thead>\n",
       "    <tr style=\"text-align: right;\">\n",
       "      <th></th>\n",
       "      <th>date_as_date</th>\n",
       "      <th>Stringency_index_in_Israel</th>\n",
       "    </tr>\n",
       "  </thead>\n",
       "  <tbody>\n",
       "    <tr>\n",
       "      <th>95142</th>\n",
       "      <td>2020-01-01</td>\n",
       "      <td>0.0</td>\n",
       "    </tr>\n",
       "    <tr>\n",
       "      <th>95143</th>\n",
       "      <td>2020-01-02</td>\n",
       "      <td>0.0</td>\n",
       "    </tr>\n",
       "    <tr>\n",
       "      <th>95144</th>\n",
       "      <td>2020-01-03</td>\n",
       "      <td>0.0</td>\n",
       "    </tr>\n",
       "    <tr>\n",
       "      <th>95145</th>\n",
       "      <td>2020-01-04</td>\n",
       "      <td>0.0</td>\n",
       "    </tr>\n",
       "    <tr>\n",
       "      <th>95146</th>\n",
       "      <td>2020-01-05</td>\n",
       "      <td>0.0</td>\n",
       "    </tr>\n",
       "    <tr>\n",
       "      <th>...</th>\n",
       "      <td>...</td>\n",
       "      <td>...</td>\n",
       "    </tr>\n",
       "    <tr>\n",
       "      <th>95743</th>\n",
       "      <td>2021-08-24</td>\n",
       "      <td>NaN</td>\n",
       "    </tr>\n",
       "    <tr>\n",
       "      <th>95744</th>\n",
       "      <td>2021-08-25</td>\n",
       "      <td>NaN</td>\n",
       "    </tr>\n",
       "    <tr>\n",
       "      <th>95745</th>\n",
       "      <td>2021-08-26</td>\n",
       "      <td>NaN</td>\n",
       "    </tr>\n",
       "    <tr>\n",
       "      <th>95746</th>\n",
       "      <td>2021-08-27</td>\n",
       "      <td>NaN</td>\n",
       "    </tr>\n",
       "    <tr>\n",
       "      <th>95747</th>\n",
       "      <td>2021-08-28</td>\n",
       "      <td>NaN</td>\n",
       "    </tr>\n",
       "  </tbody>\n",
       "</table>\n",
       "<p>606 rows × 2 columns</p>\n",
       "</div>"
      ],
      "text/plain": [
       "      date_as_date  Stringency_index_in_Israel\n",
       "95142   2020-01-01                         0.0\n",
       "95143   2020-01-02                         0.0\n",
       "95144   2020-01-03                         0.0\n",
       "95145   2020-01-04                         0.0\n",
       "95146   2020-01-05                         0.0\n",
       "...            ...                         ...\n",
       "95743   2021-08-24                         NaN\n",
       "95744   2021-08-25                         NaN\n",
       "95745   2021-08-26                         NaN\n",
       "95746   2021-08-27                         NaN\n",
       "95747   2021-08-28                         NaN\n",
       "\n",
       "[606 rows x 2 columns]"
      ]
     },
     "execution_count": 10,
     "metadata": {},
     "output_type": "execute_result"
    }
   ],
   "source": [
    "chosen_ox"
   ]
  },
  {
   "cell_type": "markdown",
   "id": "2afb5ad8",
   "metadata": {},
   "source": [
    "## Next, optionally we can put the results on your computer\n",
    "To push the results to the local drive, uncomment the next block and run"
   ]
  },
  {
   "cell_type": "code",
   "execution_count": 33,
   "id": "968a7302",
   "metadata": {},
   "outputs": [],
   "source": [
    "# # this is one alternative  optional cell to  download your latest chosen stringency to a csv file\n",
    "# # to download into the folder you are running the notebook in\n",
    "## uncomment once and run\n",
    "# chosen_ox.to_csv('chosen_stringency_today.csv')"
   ]
  },
  {
   "cell_type": "markdown",
   "id": "cd97f716",
   "metadata": {},
   "source": [
    "An alternative optional cell to  download your latest chosen stringency to a csv file, but here we will put it in a chosen file on your hard drive"
   ]
  },
  {
   "cell_type": "code",
   "execution_count": 35,
   "id": "ad96137f",
   "metadata": {},
   "outputs": [
    {
     "name": "stdout",
     "output_type": "stream",
     "text": [
      "D:/oxford_covid_stringency\\chosen_stringency_today4.csv\n"
     ]
    }
   ],
   "source": [
    "# this is an alternative optional cell to  download your latest chosen stringency to a csv file\n",
    "# but here we will put it in a chosen file on your hard drive\n",
    "#  you can change the output_folder variable to choose file, example: 'D:/my_academia'\n",
    "\n",
    "output_folder = 'D:/oxford_covid_stringency'\n",
    "try: \n",
    "    os.mkdir(output_folder)\n",
    "except FileExistsError:\n",
    "    pass \n",
    "\n",
    "new_file = os.path.join(output_folder,'chosen_stringency_today4.csv' )\n",
    "print(new_file)\n",
    "chosen_ox.to_csv(new_file)"
   ]
  },
  {
   "cell_type": "code",
   "execution_count": null,
   "id": "1739aa71",
   "metadata": {},
   "outputs": [],
   "source": []
  }
 ],
 "metadata": {
  "kernelspec": {
   "display_name": "Python 3 (ipykernel)",
   "language": "python",
   "name": "python3"
  },
  "language_info": {
   "codemirror_mode": {
    "name": "ipython",
    "version": 3
   },
   "file_extension": ".py",
   "mimetype": "text/x-python",
   "name": "python",
   "nbconvert_exporter": "python",
   "pygments_lexer": "ipython3",
   "version": "3.8.0"
  },
  "toc": {
   "base_numbering": 1,
   "nav_menu": {},
   "number_sections": true,
   "sideBar": true,
   "skip_h1_title": false,
   "title_cell": "Table of Contents",
   "title_sidebar": "Contents",
   "toc_cell": false,
   "toc_position": {},
   "toc_section_display": true,
   "toc_window_display": false
  }
 },
 "nbformat": 4,
 "nbformat_minor": 5
}
